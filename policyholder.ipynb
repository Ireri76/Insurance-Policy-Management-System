{
 "cells": [
  {
   "cell_type": "code",
   "execution_count": null,
   "id": "e4eaf32d-0546-4777-bae5-ee3b3c117adb",
   "metadata": {},
   "outputs": [],
   "source": [
    "# policyholder_management.ipynb\n",
    "class Policyholder:\n",
    "    def __init__(self, policyID, name, age, gender):\n",
    "        self.policyID = policyID  # unique policy ID\n",
    "        self.name = name          # name of the policyholder\n",
    "        self.age = age            # age of the policyholder\n",
    "        self.gender = gender      # gender of the policyholder\n",
    "        self.is_active = True     # default status of the policyholder (active)\n",
    "    \n",
    "    # Register new policyholder\n",
    "    def register(self):\n",
    "        print(f\"Policyholder {self.name} (ID: {self.policyID}) registered successfully.\")\n",
    "    \n",
    "    # Suspend policyholder\n",
    "    def suspend(self):\n",
    "        self.is_active = False\n",
    "        print(f\"Policyholder {self.name} (ID: {self.policyID}) has been suspended.\")\n",
    "    \n",
    "    # Reactivate policyholder\n",
    "    def reactivate(self):\n",
    "        self.is_active = True\n",
    "        print(f\"Policyholder {self.name} (ID: {self.policyID}) has been reactivated.\")\n",
    "    \n",
    "    # Display policyholder details\n",
    "    def display_details(self):\n",
    "        status = \"Active\" if self.is_active else \"Suspended\"\n",
    "        print(f\"Policyholder ID: {self.policyID}, Name: {self.name}, Age: {self.age}, Gender: {self.gender}, Status: {status}\")\n"
   ]
  },
  {
   "cell_type": "code",
   "execution_count": null,
   "id": "c1bba6ca-2d8a-4af7-8786-1c06587f666a",
   "metadata": {},
   "outputs": [],
   "source": []
  }
 ],
 "metadata": {
  "kernelspec": {
   "display_name": "Python 3 (ipykernel)",
   "language": "python",
   "name": "python3"
  },
  "language_info": {
   "codemirror_mode": {
    "name": "ipython",
    "version": 3
   },
   "file_extension": ".py",
   "mimetype": "text/x-python",
   "name": "python",
   "nbconvert_exporter": "python",
   "pygments_lexer": "ipython3",
   "version": "3.9.17"
  }
 },
 "nbformat": 4,
 "nbformat_minor": 5
}
