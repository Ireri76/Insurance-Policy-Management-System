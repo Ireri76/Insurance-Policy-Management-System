{
 "cells": [
  {
   "cell_type": "code",
   "execution_count": null,
   "id": "99450356-34e9-40dd-a89f-1daac73e9bc6",
   "metadata": {},
   "outputs": [],
   "source": [
    "# product.ipynb\n",
    "class Product:\n",
    "    def __init__(self, product_id, name, kes, availability=True):\n",
    "        self.product_id = product_id\n",
    "        self.name = name\n",
    "        self.price = kes  # Store the price as Kenya shillings\n",
    "        self.availability = availability  # Product can be 'available' or 'suspended'\n",
    "\n",
    "    def update_price(self, new_price):\n",
    "        self.price = new_price\n",
    "        print(f\"Product {self.name} price updated to kes {self.price}\")\n",
    "\n",
    "    def suspend_product(self):\n",
    "        self.availability = False\n",
    "        print(f\"Product {self.name} is suspended.\")\n",
    "\n",
    "    def activate_product(self):\n",
    "        self.availability = True\n",
    "        print(f\"Product {self.name} is now available.\")\n",
    "    \n",
    "    def display_details(self):\n",
    "        status = 'Available' if self.availability else 'Suspended'\n",
    "        print(f\"Product ID: {self.product_id}, Name: {self.name}, Price: kes {self.price}, Status: {status}\")\n"
   ]
  }
 ],
 "metadata": {
  "kernelspec": {
   "display_name": "Python 3 (ipykernel)",
   "language": "python",
   "name": "python3"
  },
  "language_info": {
   "codemirror_mode": {
    "name": "ipython",
    "version": 3
   },
   "file_extension": ".py",
   "mimetype": "text/x-python",
   "name": "python",
   "nbconvert_exporter": "python",
   "pygments_lexer": "ipython3",
   "version": "3.9.17"
  }
 },
 "nbformat": 4,
 "nbformat_minor": 5
}
