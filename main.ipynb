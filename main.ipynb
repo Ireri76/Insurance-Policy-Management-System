{
 "cells": [
  {
   "cell_type": "code",
   "execution_count": null,
   "id": "c9acaa62-f971-43a5-82ad-655e1861880f",
   "metadata": {},
   "outputs": [],
   "source": [
    "# main.py\n",
    "import csv\n",
    "from policyholder import Policyholder\n",
    "from product import Product\n",
    "from payment import Payment\n",
    "\n",
    "# Load policyholders, products, and payments from the CSV\n",
    "policyholders = []\n",
    "products = []\n",
    "payments = []\n",
    "\n",
    "try:\n",
    "    with open('insurance_data.csv', mode='r') as file:\n",
    "        reader = csv.DictReader(file)\n",
    "        for row in reader:\n",
    "            # Remove spaces before and after the text from the column names\n",
    "            row = {key.strip(): value.strip() for key, value in row.items()}\n",
    "\n",
    "            # Check for required fields and handle missing data\n",
    "            if all(key in row and row[key] for key in ['policy_id', 'name', 'age', 'gender', 'product_name', 'product_amount', 'monthly_premium']):\n",
    "                try:\n",
    "                    # Instantiate a policyholder instance\n",
    "                    policyholder = Policyholder(row['policy_id'], row['name'], row['age'], row['gender'])\n",
    "                    policyholders.append(policyholder)\n",
    "\n",
    "                    # Instantiate a product instance for the policyholder\n",
    "                    product = Product(row['policy_id'], row['product_name'], row['product_amount'])\n",
    "                    products.append(product)\n",
    "\n",
    "                    # Instantiate a payment instance (monthly premium) for the policyholder\n",
    "                    payment = Payment(row['policy_id'], policyholder, product, row['monthly_premium'])\n",
    "                    payments.append(payment)\n",
    "                except Exception as e:\n",
    "                    print(f\"Error in processing row {row}: {e}\")\n",
    "            else:\n",
    "                print(f\"Missing or empty data in row: {row}\")\n",
    "\n",
    "except FileNotFoundError:\n",
    "    print(\"Error: The file 'insurance_data.csv' was not found.\")\n",
    "except Exception as e:\n",
    "    print(f\"An error occurred: {e}\")\n",
    "\n",
    "# Function to search for a policyholder by policyID in case the dataset was huge\n",
    "def search_policyholder(policyID):\n",
    "    for i, policyholder in enumerate(policyholders):\n",
    "        if policyholder.policyID == policyID: \n",
    "            print(f\"Details for {policyholder.name}:\")\n",
    "            policyholder.display_details()  # Display policyholder details\n",
    "            products[i].display_details()   # Display product details\n",
    "            payments[i].process_payment()   # Process and display payment details\n",
    "            payments[i].display_payment_details()  # Display payment information\n",
    "            return  # Exit the function after displaying the details\n",
    "    print(f\"Policyholder with ID {policyID} not found.\")\n",
    "\n",
    "# Get user input for the policy_id to search\n",
    "search_id = input(\"Enter the Policy ID to search: \").strip()\n",
    "search_policyholder(search_id)\n"
   ]
  },
  {
   "cell_type": "code",
   "execution_count": null,
   "id": "cfcbef1b-3c28-4f1a-ab0c-4e08b71dbb6a",
   "metadata": {},
   "outputs": [],
   "source": []
  }
 ],
 "metadata": {
  "kernelspec": {
   "display_name": "Python 3 (ipykernel)",
   "language": "python",
   "name": "python3"
  },
  "language_info": {
   "codemirror_mode": {
    "name": "ipython",
    "version": 3
   },
   "file_extension": ".py",
   "mimetype": "text/x-python",
   "name": "python",
   "nbconvert_exporter": "python",
   "pygments_lexer": "ipython3",
   "version": "3.9.17"
  }
 },
 "nbformat": 4,
 "nbformat_minor": 5
}
