{
 "cells": [
  {
   "cell_type": "code",
   "execution_count": null,
   "id": "88be9a20-5600-4bc9-816b-7d3686d8850a",
   "metadata": {},
   "outputs": [],
   "source": [
    "# payment.ipynb\n",
    "class Payment:\n",
    "    def __init__(self, payment_id, policyholder, product, monthly_premium):\n",
    "        self.payment_id = payment_id\n",
    "        self.policyholder = policyholder\n",
    "        self.product = product\n",
    "        self.monthly_premium = monthly_premium\n",
    "        self.status = 'pending'\n",
    "\n",
    "    def process_payment(self):\n",
    "        self.status = 'completed'\n",
    "        print(f\"Payment {self.payment_id} for {self.policyholder.name} has been completed.\")\n",
    "\n",
    "    def send_payment_reminder(self):\n",
    "        if self.status == 'pending':\n",
    "            print(f\"Reminder: Payment {self.payment_id} for {self.policyholder.name} is pending.\")\n",
    "    \n",
    "    def apply_penalty(self):\n",
    "        penalty = 0.1 * self.monthly_premium  # 10% penalty\n",
    "        self.monthly_premium += penalty\n",
    "        print(f\"A penalty of {penalty} has been applied. New amount is kes {self.monthly_premium}\")\n",
    "\n",
    "    def display_payment_details(self):\n",
    "        print(f\"Payment ID: {self.payment_id}, Product: {self.product.name}, Monthly premium: kes {self.monthly_premium}, Status: {self.status}\")\n"
   ]
  }
 ],
 "metadata": {
  "kernelspec": {
   "display_name": "Python 3 (ipykernel)",
   "language": "python",
   "name": "python3"
  },
  "language_info": {
   "codemirror_mode": {
    "name": "ipython",
    "version": 3
   },
   "file_extension": ".py",
   "mimetype": "text/x-python",
   "name": "python",
   "nbconvert_exporter": "python",
   "pygments_lexer": "ipython3",
   "version": "3.9.17"
  }
 },
 "nbformat": 4,
 "nbformat_minor": 5
}
